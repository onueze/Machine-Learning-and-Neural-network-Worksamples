{
 "cells": [
  {
   "cell_type": "markdown",
   "id": "7272a62f",
   "metadata": {},
   "source": [
    "# Project Description\n",
    "\n",
    "The aim of this project is to undergo extensive analysis of the underlying dataset, which is a spotify dataset containing information on various songs which include track names, artist names, release dates, popularity metrics, musical attributes, and more. The goal is to apply artificial intelligence models which were taught throughout the academic term. "
   ]
  },
  {
   "cell_type": "markdown",
   "id": "a127e018",
   "metadata": {},
   "source": [
    "As already mentioned will this project analyse the spotify dataset. Various questions on the dataset will be answered by visualizing and evaluating the dataset to provide sensible statistics.\n",
    "The questions that will be answered on the spotify dataset can be grouped into super sections with each section containing sub-questions that pertain to the super question."
   ]
  },
  {
   "cell_type": "markdown",
   "id": "5cfae473",
   "metadata": {},
   "source": [
    "These are the following super questions and sub questions that the dataset analysation will realise:"
   ]
  },
  {
   "cell_type": "markdown",
   "id": "f22673eb",
   "metadata": {},
   "source": [
    "## 1. Exploratory Data Analysis: \n",
    "EDA will be used to understand the data and learn the different data characteristics. the following questions will be answered. \n",
    "* How are the songs distributed across different release years, months, days? \n",
    "* How many songs have multiple artists contributing?\n",
    "* How diverse is the music? (key, mode)\n",
    "* What is the distribution of danceability percentages? \n",
    "* What is the relationship between a songs tempo/bpm and its danceability?\n",
    "* Are songs that have a higher danceability % more likely to be included in a playlist? (not useful)\n",
    "* Is the valence of songs in a major key higher than songs in a minor key? (similar valence, not significant)\n",
    "* Do songs that have a higher energy level tend to be in a major key? (No, similar distribution of energy levels)\n",
    "\n",
    "* Top 10 Most streamed Artists\n",
    "* Top 10 Most streamed songs\n",
    "* Trend of musical features over the years\n",
    "* Looking at the top 100 songs on each distribution plattform, are there any patterns on release month?\n",
    "* Correlation of features (Heatmap)\n",
    "* How are the streams distributed?\n"
   ]
  },
  {
   "cell_type": "markdown",
   "id": "4e4676be",
   "metadata": {},
   "source": [
    "## 2. Regression Tasks:\n",
    "The regression tasks will give a deeper understanding on how much each feature contributes towards the target (streams).\n",
    "* Which features are most important for the target variable (streams)?\n",
    "* Are there any interactions between features that are important for prediction?\n",
    "* How well does each feature individually predict the target variable (streams)?\n",
    "* Is there a correlation between the number of playlists a song is in and its popularity (streams).\n",
    "* How does the rank on Spotify/Apple/Deezer charts impact a song's popularity (streams).\n",
    "* What is the relationship between danceability, valence, energy, and song popularity (streams)?\n",
    "* Can we predict the ranking of a song based on features?\n",
    "* Can the number of artists collaborating on a song predict the songs ranking?\n",
    "* Can we predict the key of a song based on its musical features?"
   ]
  },
  {
   "cell_type": "markdown",
   "id": "7da60351",
   "metadata": {},
   "source": [
    "## 3. Clustering Tasks:\n",
    "* Using features like danceability, valence, energy and acousticness, can specific songs be clustered together to i.e. create recommended playlists? "
   ]
  },
  {
   "cell_type": "markdown",
   "id": "0c18c284",
   "metadata": {},
   "source": []
  }
 ],
 "metadata": {
  "kernelspec": {
   "display_name": "Python 3 (ipykernel)",
   "language": "python",
   "name": "python3"
  },
  "language_info": {
   "codemirror_mode": {
    "name": "ipython",
    "version": 3
   },
   "file_extension": ".py",
   "mimetype": "text/x-python",
   "name": "python",
   "nbconvert_exporter": "python",
   "pygments_lexer": "ipython3",
   "version": "3.11.5"
  }
 },
 "nbformat": 4,
 "nbformat_minor": 5
}
